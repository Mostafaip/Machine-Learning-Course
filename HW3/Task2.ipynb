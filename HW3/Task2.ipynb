{
 "cells": [
  {
   "cell_type": "code",
   "execution_count": null,
   "id": "7df6053b",
   "metadata": {},
   "outputs": [],
   "source": [
    "#import library\n",
    "import numpy as np \n",
    "import pandas as pd \n",
    "import matplotlib.pyplot as plt\n",
    "\n",
    "#import surprise library\n",
    "from surprise import Dataset \n",
    "from surprise import Reader\n",
    "from surprise import SVD\n",
    "from surprise import KNNBasic\n",
    "from surprise import accuracy\n",
    "from surprise.model_selection import cross_validate\n",
    "from surprise.model_selection import train_test_split"
   ]
  },
  {
   "cell_type": "code",
   "execution_count": null,
   "id": "19e869ac",
   "metadata": {},
   "outputs": [],
   "source": [
    "# A. Read data from “ratings small.csv” with line format: 'userID movieID rating timestamp'.\n",
    "\n",
    "reader = Reader(line_format = \"user item rating timestamp\", sep = ',', skip_lines = 1)\n",
    "dataset = Dataset.load_from_file(\"ratings_small.csv\", reader = reader)"
   ]
  },
  {
   "cell_type": "code",
   "execution_count": null,
   "id": "ef6b568a",
   "metadata": {},
   "outputs": [],
   "source": [
    "#define parameters\n",
    "PMF_RMSE = []\n",
    "PMF_MAE = []\n",
    "UB_RMSE = []\n",
    "UB_MAE = []\n",
    "IB_RMSE = []\n",
    "IB_MAE = []\n",
    "algorithm = SVD(biased = False)\n",
    "CV_PMF = cross_validate(algorithm, dataset, measures = ['RMSE', 'MAE'], cv = 5, verbose = True)"
   ]
  },
  {
   "cell_type": "code",
   "execution_count": null,
   "id": "81076a0c",
   "metadata": {},
   "outputs": [],
   "source": [
    "algorithm = KNNBasic(sim_options = {'user_based' : True })\n",
    "CV_UB_CF = cross_validate(algorithm, dataset, measures = ['RMSE', 'MAE'], cv = 5, verbose = True)"
   ]
  },
  {
   "cell_type": "code",
   "execution_count": null,
   "id": "eb3de465",
   "metadata": {},
   "outputs": [],
   "source": [
    "algorithm = KNNBasic(sim_options = {'user_based' : False })\n",
    "CV_IB_CF = cross_validate(algorithm, dataset, measures = ['RMSE', 'MAE'], cv = 5, verbose = True)"
   ]
  },
  {
   "cell_type": "code",
   "execution_count": null,
   "id": "d7ddc3d9",
   "metadata": {},
   "outputs": [],
   "source": [
    "PMF_RMSE.append(CV_PMF['test_rmse'].mean())\n",
    "PMF_MAE.append(CV_PMF['test_mae'].mean())\n",
    "print(PMF_RMSE)\n",
    "print(PMF_MAE)"
   ]
  },
  {
   "cell_type": "code",
   "execution_count": null,
   "id": "dde04d17",
   "metadata": {},
   "outputs": [],
   "source": [
    "UB_RMSE.append(CV_UB_CF['test_rmse'].mean())\n",
    "UB_MAE.append(CV_UB_CF['test_mae'].mean())\n",
    "print(UB_RMSE)\n",
    "print(UB_MAE)"
   ]
  },
  {
   "cell_type": "code",
   "execution_count": null,
   "id": "ac045766",
   "metadata": {},
   "outputs": [],
   "source": [
    "IB_RMSE.append(CV_IB_CF['test_rmse'].mean())\n",
    "IB_MAE.append(CV_IB_CF['test_mae'].mean())\n",
    "print(IB_RMSE)\n",
    "print(IB_MAE)"
   ]
  },
  {
   "cell_type": "code",
   "execution_count": null,
   "id": "51a0a8c0",
   "metadata": {},
   "outputs": [],
   "source": [
    "algo_UB_cosine = KNNBasic(sim_options = {'name' : 'cosine', 'user_based' : True})\n",
    "CV_UB_cosine = cross_validate(algo_UB_cosine, dataset, measures = ['RMSE', 'MAE'], cv = 5, verbose = True)\n",
    "algo_UB_msd = KNNBasic(sim_options = {'user_based' : True})\n",
    "CV_UB_msd = cross_validate(algo_UB_msd, dataset, measures = ['RMSE', 'MAE'], cv = 5, verbose = True)\n",
    "algo_UB_pearson = KNNBasic(sim_options = {'name' : 'pearson_baseline', 'user_based' : True})\n",
    "CV_UB_pearson = cross_validate(algo_UB_pearson, dataset, measures = ['RMSE', 'MAE'], cv = 5, verbose = True)\n",
    "\n",
    "algo_IB_cosine = KNNBasic(sim_options = {'name' : 'cosine', 'user_based' : False})\n",
    "CV_IB_cosine = cross_validate(algo_IB_cosine, dataset, measures = ['RMSE', 'MAE'], cv = 5, verbose = True)\n",
    "algo_IB_msd = KNNBasic(sim_options = {'user_based' : False})\n",
    "CV_IB_msd = cross_validate(algo_IB_msd, dataset, measures = ['RMSE', 'MAE'], cv = 5, verbose = True)\n",
    "algo_IB_pearson = KNNBasic(sim_options = {'name' : 'pearson_baseline', 'user_based' : False})\n",
    "CV_IB_pearson = cross_validate(algo_IB_pearson, dataset, measures = ['RMSE', 'MAE'], cv = 5, verbose = True)"
   ]
  },
  {
   "cell_type": "code",
   "execution_count": null,
   "id": "d2dcefc1",
   "metadata": {},
   "outputs": [],
   "source": [
    "UB_RMSE_PLOT = []\n",
    "UB_MAE_PLOT = []\n",
    "UB_RMSE_PLOT.append(CV_UB_cosine['test_rmse'].mean())\n",
    "UB_RMSE_PLOT.append(CV_UB_msd['test_rmse'].mean())\n",
    "UB_RMSE_PLOT.append(CV_UB_pearson['test_rmse'].mean())\n",
    "UB_MAE_PLOT.append(CV_UB_cosine['test_mae'].mean())\n",
    "UB_MAE_PLOT.append(CV_UB_msd['test_mae'].mean())\n",
    "UB_MAE_PLOT.append(CV_UB_pearson['test_mae'].mean())"
   ]
  },
  {
   "cell_type": "code",
   "execution_count": null,
   "id": "b270b83a",
   "metadata": {},
   "outputs": [],
   "source": [
    "plt.title(\"User Based CF: Cosine, MSD, Pearson\")\n",
    "plt.plot(UB_RMSE_PLOT, label = 'RMSE')\n",
    "plt.plot(UB_MAE_PLOT, label = 'MAE')\n",
    "plt.legend()"
   ]
  },
  {
   "cell_type": "code",
   "execution_count": null,
   "id": "0f2aeb39",
   "metadata": {},
   "outputs": [],
   "source": [
    "IB_RMSE_PLOT = []\n",
    "IB_MAE_PLOT = []\n",
    "IB_RMSE_PLOT.append(CV_IB_cosine['test_rmse'].mean())\n",
    "IB_RMSE_PLOT.append(CV_IB_msd['test_rmse'].mean())\n",
    "IB_RMSE_PLOT.append(CV_IB_pearson['test_rmse'].mean())\n",
    "IB_MAE_PLOT.append(CV_IB_cosine['test_mae'].mean())\n",
    "IB_MAE_PLOT.append(CV_IB_msd['test_mae'].mean())\n",
    "IB_MAE_PLOT.append(CV_IB_pearson['test_mae'].mean())\n",
    "plt.title(\"Item Based CF: Cosine, MSD, Pearson\")\n",
    "plt.plot(IB_RMSE_PLOT, label = 'RMSE')\n",
    "plt.plot(IB_MAE_PLOT, label = 'MAE')\n",
    "plt.legend()"
   ]
  },
  {
   "cell_type": "code",
   "execution_count": null,
   "id": "36e1328f",
   "metadata": {},
   "outputs": [],
   "source": [
    "Range = range(1,101)\n",
    "User = []\n",
    "\n",
    "for i in Range:\n",
    "        algo = KNNBasic(k = i, sim_options = {'user_based' : True }, verbose = False)\n",
    "        CV_User = cross_validate(algo, dataset, measures=['rmse', 'mae'],cv = 5,verbose = False)\n",
    "        User.append(CV_User['test_rmse'].mean())\n",
    "        \n",
    "plt.plot(User)"
   ]
  },
  {
   "cell_type": "code",
   "execution_count": null,
   "id": "d25cfdf5",
   "metadata": {},
   "outputs": [],
   "source": [
    "Range = range(1,101)\n",
    "Item = []\n",
    "\n",
    "for i in Range:\n",
    "        algo = KNNBasic(k = i, sim_options = {'user_based' : False }, verbose = False)\n",
    "        CV_Item = cross_validate(algo, dataset, measures=['rmse', 'mae'],cv = 5,verbose = False)\n",
    "        Item.append(CV_Item['test_rmse'].mean())\n",
    "        \n",
    "plt.plot(Item)"
   ]
  },
  {
   "cell_type": "code",
   "execution_count": null,
   "id": "57943496",
   "metadata": {},
   "outputs": [],
   "source": [
    "User.index(min(User))"
   ]
  },
  {
   "cell_type": "code",
   "execution_count": null,
   "id": "2655180a",
   "metadata": {},
   "outputs": [],
   "source": [
    "Item.index(min(Item))"
   ]
  },
  {
   "cell_type": "code",
   "execution_count": null,
   "id": "a32b7038",
   "metadata": {},
   "outputs": [],
   "source": []
  }
 ],
 "metadata": {
  "kernelspec": {
   "display_name": "Python 3 (ipykernel)",
   "language": "python",
   "name": "python3"
  },
  "language_info": {
   "codemirror_mode": {
    "name": "ipython",
    "version": 3
   },
   "file_extension": ".py",
   "mimetype": "text/x-python",
   "name": "python",
   "nbconvert_exporter": "python",
   "pygments_lexer": "ipython3",
   "version": "3.9.7"
  }
 },
 "nbformat": 4,
 "nbformat_minor": 5
}
