{
 "cells": [
  {
   "cell_type": "code",
   "execution_count": 1,
   "id": "7c778a0f",
   "metadata": {
    "_cell_guid": "b1076dfc-b9ad-4769-8c92-a6c4dae69d19",
    "_uuid": "8f2839f25d086af736a60e9eeb907d3b93b6e0e5",
    "execution": {
     "iopub.execute_input": "2023-04-16T14:25:22.986416Z",
     "iopub.status.busy": "2023-04-16T14:25:22.986018Z",
     "iopub.status.idle": "2023-04-16T14:25:24.568526Z",
     "shell.execute_reply": "2023-04-16T14:25:24.566939Z"
    },
    "papermill": {
     "duration": 1.59153,
     "end_time": "2023-04-16T14:25:24.571679",
     "exception": false,
     "start_time": "2023-04-16T14:25:22.980149",
     "status": "completed"
    },
    "tags": []
   },
   "outputs": [],
   "source": [
    "import os\n",
    "import glob\n",
    "import numpy as np\n",
    "import pandas as pd\n",
    "from tqdm.auto import tqdm\n",
    "from sklearn import model_selection, ensemble, metrics"
   ]
  },
  {
   "cell_type": "code",
   "execution_count": 2,
   "id": "df7f0372",
   "metadata": {
    "execution": {
     "iopub.execute_input": "2023-04-16T14:25:24.580374Z",
     "iopub.status.busy": "2023-04-16T14:25:24.579905Z",
     "iopub.status.idle": "2023-04-16T14:25:25.014520Z",
     "shell.execute_reply": "2023-04-16T14:25:25.013004Z"
    },
    "papermill": {
     "duration": 0.443436,
     "end_time": "2023-04-16T14:25:25.018686",
     "exception": false,
     "start_time": "2023-04-16T14:25:24.575250",
     "status": "completed"
    },
    "tags": []
   },
   "outputs": [],
   "source": [
    "# Set the base path\n",
    "base_path = '/kaggle/input/tlvmc-parkinsons-freezing-gait-prediction/'\n",
    "\n",
    "# Get the file paths for train and test data\n",
    "train_files = glob.glob(os.path.join(base_path, 'train/**/**'))\n",
    "test_files = glob.glob(os.path.join(base_path, 'test/**/**'))\n",
    "\n",
    "# Load the metadata files\n",
    "tdcsfog_metadata = pd.read_csv(os.path.join(base_path, 'tdcsfog_metadata.csv'))\n",
    "defog_metadata = pd.read_csv(os.path.join(base_path, 'defog_metadata.csv'))\n",
    "metadata = pd.concat([tdcsfog_metadata, defog_metadata])\n",
    "# Load the subjects file\n",
    "subjects = pd.read_csv(os.path.join(base_path, 'subjects.csv'))\n",
    "\n",
    "# Load the tasks file\n",
    "tasks = pd.read_csv(os.path.join(base_path, 'tasks.csv'))\n",
    "\n",
    "# Load the sample submission file\n",
    "sub = pd.read_csv(os.path.join(base_path, 'sample_submission.csv'))"
   ]
  },
  {
   "cell_type": "code",
   "execution_count": 3,
   "id": "e18c918f",
   "metadata": {
    "execution": {
     "iopub.execute_input": "2023-04-16T14:25:25.028797Z",
     "iopub.status.busy": "2023-04-16T14:25:25.028414Z",
     "iopub.status.idle": "2023-04-16T14:26:29.115409Z",
     "shell.execute_reply": "2023-04-16T14:26:29.113815Z"
    },
    "papermill": {
     "duration": 64.094649,
     "end_time": "2023-04-16T14:26:29.118385",
     "exception": false,
     "start_time": "2023-04-16T14:25:25.023736",
     "status": "completed"
    },
    "tags": []
   },
   "outputs": [
    {
     "name": "stdout",
     "output_type": "stream",
     "text": [
      "14125344\n",
      "(13525702, 11)\n",
      "(7062672, 9)\n",
      "(20588374, 11)\n"
     ]
    }
   ],
   "source": [
    "def get_data(f):\n",
    "    df = pd.read_csv(f)\n",
    "    df['Id'] = f.split('/')[-1].split('.')[0]\n",
    "    df['data_type'] = f.split('/')[-2]\n",
    "    return df\n",
    "# Get the train data\n",
    "train_defog_files = glob.glob(os.path.join(base_path, 'train/defog/**'))\n",
    "train_tdcsfog_files = glob.glob(os.path.join(base_path, 'train/tdcsfog/**'))\n",
    "df_train_defog = pd.concat([get_data(f) for f in train_defog_files])\n",
    "df_train_tdcsfog = pd.concat([get_data(f) for f in train_tdcsfog_files])\n",
    "df_train = pd.concat([df_train_defog, df_train_tdcsfog])\n",
    "\n",
    "\n",
    "print(df_train.isnull().sum().sum())\n",
    "\n",
    "print(df_train_defog.shape)\n",
    "print(df_train_tdcsfog.shape)\n",
    "\n",
    "print(df_train.shape)\n",
    "\n",
    "# Fill missing values with 0\n",
    "df_train.fillna(0, inplace=True)"
   ]
  },
  {
   "cell_type": "code",
   "execution_count": 4,
   "id": "3f14a9b8",
   "metadata": {
    "execution": {
     "iopub.execute_input": "2023-04-16T14:26:29.126971Z",
     "iopub.status.busy": "2023-04-16T14:26:29.126514Z",
     "iopub.status.idle": "2023-04-16T14:26:52.989276Z",
     "shell.execute_reply": "2023-04-16T14:26:52.987813Z"
    },
    "papermill": {
     "duration": 23.870763,
     "end_time": "2023-04-16T14:26:52.992738",
     "exception": false,
     "start_time": "2023-04-16T14:26:29.121975",
     "status": "completed"
    },
    "tags": []
   },
   "outputs": [],
   "source": [
    "# Features\n",
    "df_train['VelMagnitude'] = np.sqrt(df_train['AccV'] ** 2 + df_train['AccML'] ** 2 + df_train['AccAP'] ** 2)\n",
    "df_train['JerkMagnitude'] = np.sqrt(df_train['VelMagnitude'].diff() ** 2)\n",
    "df_train['MeanVelocity'] = (df_train['AccV'] + df_train['AccML'] + df_train['AccAP'])/3\n",
    "df_train['PeakAccV'] = df_train['AccV'].max()\n",
    "df_train['PeakAccML'] = df_train['AccML'].max()\n",
    "df_train['PeakAccAP'] = df_train['AccAP'].max()\n",
    "\n",
    "df_train.fillna(0, inplace=True)\n",
    "\n",
    "features=['Time', 'AccV', 'AccML', 'AccAP','VelMagnitude','JerkMagnitude','MeanVelocity','PeakAccV','PeakAccML','PeakAccAP']\n",
    "Targets=['StartHesitation', 'Turn' , 'Walking']\n",
    "X_train, X_valid, y_train, y_valid = model_selection.train_test_split(df_train[features], df_train[Targets], test_size=.30, random_state=42)\n"
   ]
  },
  {
   "cell_type": "code",
   "execution_count": 5,
   "id": "04b6ed91",
   "metadata": {
    "execution": {
     "iopub.execute_input": "2023-04-16T14:26:53.001425Z",
     "iopub.status.busy": "2023-04-16T14:26:53.001027Z",
     "iopub.status.idle": "2023-04-16T14:26:53.444037Z",
     "shell.execute_reply": "2023-04-16T14:26:53.442747Z"
    },
    "papermill": {
     "duration": 0.45016,
     "end_time": "2023-04-16T14:26:53.446575",
     "exception": false,
     "start_time": "2023-04-16T14:26:52.996415",
     "status": "completed"
    },
    "tags": []
   },
   "outputs": [
    {
     "data": {
      "text/plain": [
       "81"
      ]
     },
     "execution_count": 5,
     "metadata": {},
     "output_type": "execute_result"
    }
   ],
   "source": [
    "import gc\n",
    "del df_train\n",
    "gc.collect()"
   ]
  },
  {
   "cell_type": "code",
   "execution_count": 6,
   "id": "7dbcc02f",
   "metadata": {
    "execution": {
     "iopub.execute_input": "2023-04-16T14:26:53.455511Z",
     "iopub.status.busy": "2023-04-16T14:26:53.455108Z",
     "iopub.status.idle": "2023-04-16T15:27:28.074267Z",
     "shell.execute_reply": "2023-04-16T15:27:28.073137Z"
    },
    "papermill": {
     "duration": 3634.627491,
     "end_time": "2023-04-16T15:27:28.077679",
     "exception": false,
     "start_time": "2023-04-16T14:26:53.450188",
     "status": "completed"
    },
    "tags": []
   },
   "outputs": [
    {
     "data": {
      "text/plain": [
       "RandomForestRegressor(max_depth=7, n_jobs=-1, random_state=42)"
      ]
     },
     "execution_count": 6,
     "metadata": {},
     "output_type": "execute_result"
    }
   ],
   "source": [
    "model_Reg = ensemble.RandomForestRegressor(n_estimators=100, max_depth=7, n_jobs=-1, random_state=42)\n",
    "model_Reg.fit(X_train, y_train)"
   ]
  },
  {
   "cell_type": "code",
   "execution_count": 7,
   "id": "2b00c86b",
   "metadata": {
    "execution": {
     "iopub.execute_input": "2023-04-16T15:27:28.088485Z",
     "iopub.status.busy": "2023-04-16T15:27:28.087130Z",
     "iopub.status.idle": "2023-04-16T15:27:48.352838Z",
     "shell.execute_reply": "2023-04-16T15:27:48.351746Z"
    },
    "papermill": {
     "duration": 20.274308,
     "end_time": "2023-04-16T15:27:48.355730",
     "exception": false,
     "start_time": "2023-04-16T15:27:28.081422",
     "status": "completed"
    },
    "tags": []
   },
   "outputs": [
    {
     "name": "stdout",
     "output_type": "stream",
     "text": [
      "0.3372607054144166\n"
     ]
    }
   ],
   "source": [
    "print(metrics.average_precision_score(y_valid, model_Reg.predict(X_valid).clip(0.0,1.0)))"
   ]
  },
  {
   "cell_type": "code",
   "execution_count": 8,
   "id": "768c6eeb",
   "metadata": {
    "execution": {
     "iopub.execute_input": "2023-04-16T15:27:48.365648Z",
     "iopub.status.busy": "2023-04-16T15:27:48.365230Z",
     "iopub.status.idle": "2023-04-16T15:27:51.072696Z",
     "shell.execute_reply": "2023-04-16T15:27:51.071379Z"
    },
    "papermill": {
     "duration": 2.715879,
     "end_time": "2023-04-16T15:27:51.075638",
     "exception": false,
     "start_time": "2023-04-16T15:27:48.359759",
     "status": "completed"
    },
    "tags": []
   },
   "outputs": [],
   "source": [
    "sub = pd.read_csv(base_path+'sample_submission.csv')\n",
    "test = glob.glob(base_path+'test/**/**')\n",
    "\n",
    "sub['t'] = 0\n",
    "submission = []\n",
    "for f in test:\n",
    "    df = pd.read_csv(f)\n",
    "    df['Id'] = f.split('/')[-1].split('.')[0]\n",
    "    df = df.fillna(0).reset_index(drop=True)\n",
    "    df['VelMagnitude'] = np.sqrt(df['AccV'] ** 2 + df['AccML'] ** 2 + df['AccAP'] ** 2)\n",
    "    df['JerkMagnitude'] = np.sqrt(df['VelMagnitude'].diff() ** 2)\n",
    "    df['MeanVelocity'] = (df['AccV'] + df['AccML'] + df['AccAP'])/3\n",
    "    df['PeakAccV'] = df['AccV'].max()\n",
    "    df['PeakAccML'] = df['AccML'].max()\n",
    "    df['PeakAccAP'] = df['AccAP'].max()\n",
    "    # Fill missing values with 0\n",
    "    df.fillna(0, inplace=True)\n",
    "\n",
    "    res = pd.DataFrame(np.round(model_Reg.predict(df[features]),3), columns=['StartHesitation', 'Turn' , 'Walking'])\n",
    "    df = pd.concat([df,res], axis=1)\n",
    "    df['Id'] = df['Id'].astype(str) + '_' + df['Time'].astype(str)\n",
    "    submission.append(df[['Id','StartHesitation', 'Turn' , 'Walking']])\n",
    "submission = pd.concat(submission)\n",
    "submission = pd.merge(sub[['Id','t']], submission, how='left', on='Id').fillna(0.0)\n",
    "submission[['Id','StartHesitation', 'Turn' , 'Walking']].to_csv('submission.csv', index=False)"
   ]
  },
  {
   "cell_type": "code",
   "execution_count": 9,
   "id": "6c4e570a",
   "metadata": {
    "execution": {
     "iopub.execute_input": "2023-04-16T15:27:51.085410Z",
     "iopub.status.busy": "2023-04-16T15:27:51.084656Z",
     "iopub.status.idle": "2023-04-16T15:27:51.114053Z",
     "shell.execute_reply": "2023-04-16T15:27:51.112665Z"
    },
    "papermill": {
     "duration": 0.03732,
     "end_time": "2023-04-16T15:27:51.116795",
     "exception": false,
     "start_time": "2023-04-16T15:27:51.079475",
     "status": "completed"
    },
    "tags": []
   },
   "outputs": [
    {
     "data": {
      "text/html": [
       "<div>\n",
       "<style scoped>\n",
       "    .dataframe tbody tr th:only-of-type {\n",
       "        vertical-align: middle;\n",
       "    }\n",
       "\n",
       "    .dataframe tbody tr th {\n",
       "        vertical-align: top;\n",
       "    }\n",
       "\n",
       "    .dataframe thead th {\n",
       "        text-align: right;\n",
       "    }\n",
       "</style>\n",
       "<table border=\"1\" class=\"dataframe\">\n",
       "  <thead>\n",
       "    <tr style=\"text-align: right;\">\n",
       "      <th></th>\n",
       "      <th>Id</th>\n",
       "      <th>StartHesitation</th>\n",
       "      <th>Turn</th>\n",
       "      <th>Walking</th>\n",
       "    </tr>\n",
       "  </thead>\n",
       "  <tbody>\n",
       "    <tr>\n",
       "      <th>0</th>\n",
       "      <td>003f117e14_0</td>\n",
       "      <td>0.001</td>\n",
       "      <td>0.004</td>\n",
       "      <td>0.001</td>\n",
       "    </tr>\n",
       "    <tr>\n",
       "      <th>1</th>\n",
       "      <td>003f117e14_1</td>\n",
       "      <td>0.001</td>\n",
       "      <td>0.004</td>\n",
       "      <td>0.001</td>\n",
       "    </tr>\n",
       "    <tr>\n",
       "      <th>2</th>\n",
       "      <td>003f117e14_2</td>\n",
       "      <td>0.001</td>\n",
       "      <td>0.004</td>\n",
       "      <td>0.001</td>\n",
       "    </tr>\n",
       "    <tr>\n",
       "      <th>3</th>\n",
       "      <td>003f117e14_3</td>\n",
       "      <td>0.001</td>\n",
       "      <td>0.004</td>\n",
       "      <td>0.001</td>\n",
       "    </tr>\n",
       "    <tr>\n",
       "      <th>4</th>\n",
       "      <td>003f117e14_4</td>\n",
       "      <td>0.001</td>\n",
       "      <td>0.004</td>\n",
       "      <td>0.001</td>\n",
       "    </tr>\n",
       "    <tr>\n",
       "      <th>...</th>\n",
       "      <td>...</td>\n",
       "      <td>...</td>\n",
       "      <td>...</td>\n",
       "      <td>...</td>\n",
       "    </tr>\n",
       "    <tr>\n",
       "      <th>286365</th>\n",
       "      <td>02ab235146_281683</td>\n",
       "      <td>0.000</td>\n",
       "      <td>0.000</td>\n",
       "      <td>0.005</td>\n",
       "    </tr>\n",
       "    <tr>\n",
       "      <th>286366</th>\n",
       "      <td>02ab235146_281684</td>\n",
       "      <td>0.000</td>\n",
       "      <td>0.000</td>\n",
       "      <td>0.005</td>\n",
       "    </tr>\n",
       "    <tr>\n",
       "      <th>286367</th>\n",
       "      <td>02ab235146_281685</td>\n",
       "      <td>0.000</td>\n",
       "      <td>0.000</td>\n",
       "      <td>0.005</td>\n",
       "    </tr>\n",
       "    <tr>\n",
       "      <th>286368</th>\n",
       "      <td>02ab235146_281686</td>\n",
       "      <td>0.000</td>\n",
       "      <td>0.000</td>\n",
       "      <td>0.005</td>\n",
       "    </tr>\n",
       "    <tr>\n",
       "      <th>286369</th>\n",
       "      <td>02ab235146_281687</td>\n",
       "      <td>0.000</td>\n",
       "      <td>0.000</td>\n",
       "      <td>0.005</td>\n",
       "    </tr>\n",
       "  </tbody>\n",
       "</table>\n",
       "<p>286370 rows × 4 columns</p>\n",
       "</div>"
      ],
      "text/plain": [
       "                       Id  StartHesitation   Turn  Walking\n",
       "0            003f117e14_0            0.001  0.004    0.001\n",
       "1            003f117e14_1            0.001  0.004    0.001\n",
       "2            003f117e14_2            0.001  0.004    0.001\n",
       "3            003f117e14_3            0.001  0.004    0.001\n",
       "4            003f117e14_4            0.001  0.004    0.001\n",
       "...                   ...              ...    ...      ...\n",
       "286365  02ab235146_281683            0.000  0.000    0.005\n",
       "286366  02ab235146_281684            0.000  0.000    0.005\n",
       "286367  02ab235146_281685            0.000  0.000    0.005\n",
       "286368  02ab235146_281686            0.000  0.000    0.005\n",
       "286369  02ab235146_281687            0.000  0.000    0.005\n",
       "\n",
       "[286370 rows x 4 columns]"
      ]
     },
     "execution_count": 9,
     "metadata": {},
     "output_type": "execute_result"
    }
   ],
   "source": [
    "del submission['t']\n",
    "submission"
   ]
  },
  {
   "cell_type": "code",
   "execution_count": null,
   "id": "50817b9b",
   "metadata": {
    "papermill": {
     "duration": 0.003781,
     "end_time": "2023-04-16T15:27:51.124787",
     "exception": false,
     "start_time": "2023-04-16T15:27:51.121006",
     "status": "completed"
    },
    "tags": []
   },
   "outputs": [],
   "source": []
  }
 ],
 "metadata": {
  "kernelspec": {
   "display_name": "Python 3",
   "language": "python",
   "name": "python3"
  },
  "language_info": {
   "codemirror_mode": {
    "name": "ipython",
    "version": 3
   },
   "file_extension": ".py",
   "mimetype": "text/x-python",
   "name": "python",
   "nbconvert_exporter": "python",
   "pygments_lexer": "ipython3",
   "version": "3.7.12"
  },
  "papermill": {
   "default_parameters": {},
   "duration": 3760.525339,
   "end_time": "2023-04-16T15:27:52.264232",
   "environment_variables": {},
   "exception": null,
   "input_path": "__notebook__.ipynb",
   "output_path": "__notebook__.ipynb",
   "parameters": {},
   "start_time": "2023-04-16T14:25:11.738893",
   "version": "2.4.0"
  }
 },
 "nbformat": 4,
 "nbformat_minor": 5
}
